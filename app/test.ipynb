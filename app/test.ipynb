{
 "cells": [
  {
   "cell_type": "code",
   "execution_count": null,
   "id": "ee21cc93-5402-4838-b053-9c8a2f8b5dfa",
   "metadata": {},
   "outputs": [],
   "source": [
    "import cv2 as cv\n",
    "import tensorflow as tf\n",
    "import numpy as np\n",
    "\n",
    "class_name=['mountain', 'street', 'glacier', 'buildings', 'sea', 'forest']\n",
    "class_name_lebel={class_name:i for i, class_name in enumerate(class_name)}\n",
    "nb_classes=len(class_name)\n",
    "print(class_name_lebel)\n",
    "IMAGE_SIZE=(150,150)"
   ]
  },
  {
   "cell_type": "code",
   "execution_count": null,
   "id": "6ca2e72c-3d65-43c6-b0c9-09229e79962b",
   "metadata": {},
   "outputs": [],
   "source": [
    "import os \n",
    "def load_image():\n",
    "    DIRECTORY=\"/home/sidharth/Documents/archive\"\n",
    "    CATEGORY=[\"seg_train\", \"seg_test\"]\n",
    "    output=[]\n",
    "    for category in CATEGORY:\n",
    "        path=os.path.join(os.path.join(DIRECTORY,category),category)\n",
    "        images=[]\n",
    "        labels=[]\n",
    "        print(\"Loading {}\".format(category))\n",
    "        for folder in os.listdir(path):\n",
    "            label=class_name_lebel[folder]\n",
    "            print(label)\n",
    "            for file in os.listdir(os.path.join(path, folder)):\n",
    "                img_path=os.path.join(os.path.join(path, folder), file)\n",
    "                image=cv.imread(img_path)\n",
    "                image=cv.cvtColor(image, cv.COLOR_BGR2RGB)\n",
    "                image=cv.resize(image, IMAGE_SIZE)\n",
    "                images.append(image)\n",
    "                labels.append(label)\n",
    "        images=np.array(images,dtype='float32')\n",
    "        labels=np.array(labels, dtype='int32')\n",
    "        output.append((images, labels))\n",
    "    return output\n",
    "            \n",
    "\n",
    "(train_img, train_label), (test_img, test_lebel)=load_image()\n",
    "print(len(train_img), len(train_label))\n",
    "#print(\"train_img {}\".format(train_img))\n",
    "#print(\"tain_label {}\".format(train_label))\n",
    "\n",
    "\n"
   ]
  },
  {
   "cell_type": "code",
   "execution_count": 9,
   "id": "06c8f8d4",
   "metadata": {},
   "outputs": [],
   "source": [
    "from sklearn.utils import shuffle\n",
    "\n",
    "train_img, train_test=shuffle(train_img, train_label, random_state=25)"
   ]
  }
 ],
 "metadata": {
  "kernelspec": {
   "display_name": "Python 3 (ipykernel)",
   "language": "python",
   "name": "python3"
  },
  "language_info": {
   "codemirror_mode": {
    "name": "ipython",
    "version": 3
   },
   "file_extension": ".py",
   "mimetype": "text/x-python",
   "name": "python",
   "nbconvert_exporter": "python",
   "pygments_lexer": "ipython3",
   "version": "3.12.3"
  }
 },
 "nbformat": 4,
 "nbformat_minor": 5
}
